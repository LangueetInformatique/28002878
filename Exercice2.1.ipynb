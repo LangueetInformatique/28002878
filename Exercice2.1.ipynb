{
 "cells": [
  {
   "cell_type": "code",
   "execution_count": 1,
   "metadata": {},
   "outputs": [],
   "source": [
    "import json\n",
    "def ouvrir_json(chemin):\n",
    "  f = open(chemin, encoding=\"utf-8\")\n",
    "  toto = json.load(f)\n",
    "  f.close()\n",
    "  return toto\n",
    "\n",
    "def ecrire_fichier(chemin, contenu):\n",
    "  w = open(chemin, \"w\", encoding=\"utf-8\")\n",
    "  w.write(contenu)\n",
    "  w.close()\n",
    "def lire_fichier(chemin):\n",
    "  f = open(chemin, \"r\", encoding=\"utf-8\")\n",
    "  chaine = f.read()\n",
    "  f.close()\n",
    "  return chaine"
   ]
  },
  {
   "cell_type": "code",
   "execution_count": 2,
   "metadata": {},
   "outputs": [],
   "source": [
    "import spacy\n",
    "nlp_md = spacy.load(\"fr_core_news_md\")\n",
    "nlp_sm = spacy.load(\"fr_core_news_sm\")\n",
    "nlp_lg = spacy.load(\"fr_core_news_lg\")"
   ]
  },
  {
   "cell_type": "code",
   "execution_count": 18,
   "metadata": {},
   "outputs": [],
   "source": [
    "data_genius1 = ouvrir_json(\"Data/echantillon1.json\")\n",
    "\n",
    "paroles_chanson = []\n",
    "paroles_chanson_miniscule = []\n",
    "chansons1 = data_genius1.values()\n",
    "\n",
    "\n",
    "for child in chansons1:\n",
    "\n",
    "    for parole in child:\n",
    "        if parole[\"full_title\"]==\"L'Aventurier by Jacques Dutronc\":\n",
    "            paroles = parole.get(\"lyrics\")\n",
    "            paroles_chanson.append(paroles)\n",
    "            loc1_corpus1_miniscule.append(paroles.lower())"
   ]
  },
  {
   "cell_type": "code",
   "execution_count": 19,
   "metadata": {},
   "outputs": [],
   "source": [
    "loc1_corpus1=[]\n",
    "loc2_corpus1=[]\n",
    "loc3_corpus1=[]\n",
    "for texte in paroles_chanson:\n",
    "    doc1= nlp_md(str(texte))\n",
    "    doc2= nlp_sm(str(texte))\n",
    "    doc3= nlp_lg(str(texte))\n",
    "    for entity in doc1.ents:\n",
    "        if entity.label_ ==\"LOC\":\n",
    "            loc1_corpus1.append(entity.text)\n",
    "            \n",
    "    for entity in doc2.ents:\n",
    "        if entity.label_ ==\"LOC\":\n",
    "            loc2_corpus1.append(entity.text)\n",
    "            \n",
    "    for entity in doc3.ents:\n",
    "        if entity.label_ ==\"LOC\":\n",
    "            loc3_corpus1.append(entity.text)"
   ]
  },
  {
   "cell_type": "code",
   "execution_count": 20,
   "metadata": {},
   "outputs": [],
   "source": [
    "loc1_corpus1_miniscule=[]\n",
    "loc2_corpus1_miniscule=[]\n",
    "loc3_corpus1_miniscule=[]\n",
    "for texte in paroles_chanson_miniscule:\n",
    "    doc1= nlp_md(str(texte))\n",
    "    doc2= nlp_sm(str(texte))\n",
    "    doc3= nlp_lg(str(texte))\n",
    "    for entity in doc1.ents:\n",
    "        if entity.label_ ==\"LOC\":\n",
    "            loc1_corpus1_miniscule.append(entity.text)\n",
    "            \n",
    "    for entity in doc2.ents:\n",
    "        if entity.label_ ==\"LOC\":\n",
    "            loc2_corpus1_miniscule.append(entity.text)\n",
    "            \n",
    "    for entity in doc3.ents:\n",
    "        if entity.label_ ==\"LOC\":\n",
    "            loc3_corpus1_miniscule.append(entity.text)"
   ]
  },
  {
   "cell_type": "code",
   "execution_count": 5,
   "metadata": {},
   "outputs": [
    {
     "name": "stdout",
     "output_type": "stream",
     "text": [
      "['Varsovie', 'Baltimore', 'Yaoundé', 'Amsterdam', 'Binningham', 'Bornéo', 'Papeete', 'Bordeaux', 'Tampico', \"J'ai fait l'soldat\", 'Calcutta', 'Téhéran', 'Saana', 'Cotonou', 'Dôle', 'Lourdes', 'Créteil', 'Port-Gentil', 'Tripoli', 'Varsovie', 'Baltimore']\n"
     ]
    }
   ],
   "source": [
    "print(loc1_corpus1)"
   ]
  },
  {
   "cell_type": "code",
   "execution_count": 6,
   "metadata": {},
   "outputs": [
    {
     "name": "stdout",
     "output_type": "stream",
     "text": [
      "[\"J'\", 'Varsovie', 'Baltimore', 'Yaoundé', 'Amsterdam', \"J'ai fait des games\", 'Bornéo', 'Papeete', \"J'ai bu de l'eau\", 'Bordeaux', 'Tampico', 'Calcutta', 'A', 'Téhéran', 'Saana', 'Kinshassa', 'Dôle', 'Lourdes', \"J'\", \"J'\", 'Créteil', \"J'ai eu la ber1ue\", \"J'\", 'Port-Gentil', 'Tripoli', 'Varsovie', 'Baltimore', 'Maintenant']\n"
     ]
    }
   ],
   "source": [
    "print(loc2_corpus1)"
   ]
  },
  {
   "cell_type": "code",
   "execution_count": 7,
   "metadata": {},
   "outputs": [
    {
     "name": "stdout",
     "output_type": "stream",
     "text": [
      "['Varsovie', 'Baltimore', 'Yaoundé', 'Amsterdam', 'Bornéo', 'Papeete', 'Bordeaux', 'Tampico', 'Calcutta', 'Téhéran', 'Saana', 'Cotonou', 'Dôle', 'Lourdes', 'Créteil', 'Port-Gentil', 'Tripoli', 'Varsovie', 'Baltimore']\n"
     ]
    }
   ],
   "source": [
    "print(loc3_corpus1)"
   ]
  },
  {
   "cell_type": "code",
   "execution_count": 8,
   "metadata": {},
   "outputs": [],
   "source": [
    "ecrire_fichier(\"locations_corpus1_md.json\", str(loc1_corpus1))\n",
    "ecrire_fichier(\"locations_corpus1_sm.json\", str(loc2_corpus1))\n",
    "ecrire_fichier(\"locations_corpus1_lg.json\", str(loc3_corpus1))"
   ]
  },
  {
   "cell_type": "code",
   "execution_count": 9,
   "metadata": {},
   "outputs": [],
   "source": [
    "f = open(\"locations_corpus1_md.json\")\n",
    "liste1 = eval(f.read())\n",
    "f.close()\n",
    "\n",
    "f = open(\"locations_corpus1_sm.json\")\n",
    "liste2 = eval(f.read())\n",
    "f.close()\n",
    "\n",
    "f = open(\"locations_corpus1_lg.json\")\n",
    "liste3 = eval(f.read())\n",
    "f.close()\n",
    "\n",
    "lieux1 = set(liste1)\n",
    "lieux2 = set(liste2)\n",
    "lieux3 = set(liste3)"
   ]
  },
  {
   "cell_type": "code",
   "execution_count": 10,
   "metadata": {},
   "outputs": [
    {
     "name": "stdout",
     "output_type": "stream",
     "text": [
      "Intersection 16\n",
      "dans lieux1 2\n",
      "dans lieux2 7\n",
      "dans lieux3 0\n"
     ]
    }
   ],
   "source": [
    "lieux_en_commun = lieux1.intersection(lieux2, lieux3)\n",
    "print(\"Intersection\", len(lieux_en_commun))\n",
    "print(\"dans lieux1\", len(lieux1.difference(lieux2,lieux3)))\n",
    "print(\"dans lieux2\", len(lieux2.difference(lieux1, lieux3)))\n",
    "print(\"dans lieux3\", len(lieux3.difference(lieux2, lieux1)))"
   ]
  },
  {
   "cell_type": "code",
   "execution_count": 11,
   "metadata": {},
   "outputs": [
    {
     "name": "stdout",
     "output_type": "stream",
     "text": [
      "{'Binningham', \"J'ai fait l'soldat\"}\n"
     ]
    }
   ],
   "source": [
    "print(lieux1.difference(lieux2,lieux3))"
   ]
  },
  {
   "cell_type": "code",
   "execution_count": 12,
   "metadata": {},
   "outputs": [
    {
     "name": "stdout",
     "output_type": "stream",
     "text": [
      "{'A', \"J'ai bu de l'eau\", \"J'ai fait des games\", \"J'ai eu la ber1ue\", 'Kinshassa', \"J'\", 'Maintenant'}\n"
     ]
    }
   ],
   "source": [
    "print(lieux2.difference(lieux1,lieux3))"
   ]
  },
  {
   "cell_type": "code",
   "execution_count": 13,
   "metadata": {},
   "outputs": [
    {
     "name": "stdout",
     "output_type": "stream",
     "text": [
      "set()\n"
     ]
    }
   ],
   "source": [
    "print(lieux3.difference(lieux2,lieux1)) #La liste contient aucun élement"
   ]
  },
  {
   "cell_type": "markdown",
   "metadata": {},
   "source": [
    "DANS CETTE DEUXIEME PARTIE, ON MONTRERA LE RESULTAT OBTENU SUR LE CORPUS EN MINISCULE"
   ]
  },
  {
   "cell_type": "code",
   "execution_count": 21,
   "metadata": {},
   "outputs": [
    {
     "name": "stdout",
     "output_type": "stream",
     "text": [
      "Les lieux md: \n",
      " []\n",
      "Les lieux sm: \n",
      " []\n",
      "Les lieux lg: \n",
      " []\n"
     ]
    }
   ],
   "source": [
    "print(\"Les lieux md: \\n\", loc1_corpus1_miniscule)\n",
    "print(\"Les lieux sm: \\n\", loc1_corpus1_miniscule)\n",
    "print(\"Les lieux lg: \\n\", loc1_corpus1_miniscule)"
   ]
  },
  {
   "cell_type": "code",
   "execution_count": null,
   "metadata": {},
   "outputs": [],
   "source": []
  }
 ],
 "metadata": {
  "kernelspec": {
   "display_name": "Python 3",
   "language": "python",
   "name": "python3"
  },
  "language_info": {
   "codemirror_mode": {
    "name": "ipython",
    "version": 3
   },
   "file_extension": ".py",
   "mimetype": "text/x-python",
   "name": "python",
   "nbconvert_exporter": "python",
   "pygments_lexer": "ipython3",
   "version": "3.8.3"
  }
 },
 "nbformat": 4,
 "nbformat_minor": 4
}
