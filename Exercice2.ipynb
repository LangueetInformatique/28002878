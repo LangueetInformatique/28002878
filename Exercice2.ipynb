{
 "cells": [
  {
   "cell_type": "code",
   "execution_count": 1,
   "metadata": {},
   "outputs": [],
   "source": [
    "import json\n",
    "def ouvrir_json(chemin):\n",
    "  f = open(chemin, encoding=\"utf-8\")\n",
    "  toto = json.load(f)\n",
    "  f.close()\n",
    "  return toto\n",
    "\n",
    "def ecrire_fichier(chemin, contenu):\n",
    "  w = open(chemin, \"w\", encoding=\"utf-8\")\n",
    "  w.write(contenu)\n",
    "  w.close()\n",
    "def lire_fichier(chemin):\n",
    "  f = open(chemin, \"r\", encoding=\"utf-8\")\n",
    "  chaine = f.read()\n",
    "  f.close()\n",
    "  return chaine"
   ]
  },
  {
   "cell_type": "code",
   "execution_count": 2,
   "metadata": {},
   "outputs": [],
   "source": [
    "import spacy\n",
    "nlp_md = spacy.load(\"fr_core_news_md\")\n",
    "nlp_sm = spacy.load(\"fr_core_news_sm\")\n",
    "nlp_lg = spacy.load(\"fr_core_news_lg\")"
   ]
  },
  {
   "cell_type": "code",
   "execution_count": 3,
   "metadata": {},
   "outputs": [],
   "source": [
    "data_genius1 = ouvrir_json(\"Data/echantillon1.json\")\n",
    "\n",
    "paroles_chanson = []\n",
    "chansons1 = data_genius1.values()\n",
    "\n",
    "for child in chansons1:\n",
    "    for parole in child:\n",
    "        paroles = parole.get(\"lyrics\")\n",
    "        paroles_chanson.append(paroles)"
   ]
  },
  {
   "cell_type": "code",
   "execution_count": 5,
   "metadata": {},
   "outputs": [],
   "source": [
    "loc1_corpus1=[]\n",
    "loc2_corpus1=[]\n",
    "loc3_corpus1=[]\n",
    "for texte in paroles_chanson:\n",
    "    doc1= nlp_md(str(texte))\n",
    "    doc2= nlp_sm(str(texte))\n",
    "    doc3= nlp_lg(str(texte))\n",
    "    for entity in doc1.ents:\n",
    "        if entity.label_ ==\"LOC\":\n",
    "            loc1_corpus1.append(entity.text)\n",
    "            \n",
    "    for entity in doc2.ents:\n",
    "        if entity.label_ ==\"LOC\":\n",
    "            loc2_corpus1.append(entity.text)\n",
    "            \n",
    "    for entity in doc3.ents:\n",
    "        if entity.label_ ==\"LOC\":\n",
    "            loc3_corpus1.append(entity.text)"
   ]
  },
  {
   "cell_type": "code",
   "execution_count": 6,
   "metadata": {},
   "outputs": [
    {
     "name": "stdout",
     "output_type": "stream",
     "text": [
      "['Mini-moche', 'Mini-moche', 'Maxitère', 'Castel\\n', 'la Rochelle', 'France', 'San Francisco', 'Ca', 'Celles', 'Obélisque\\nA', 'Celles', 'A', 'Chaussée', 'Chaussée', 'Chaussée', 'Chaussée', 'A', 'Val-de-Grâce', 'Ca', 'Refrain}', 'France', 'Varsovie', 'Baltimore', 'Yaoundé', 'Amsterdam', 'Binningham', 'Bornéo', 'Papeete', 'Bordeaux', 'Tampico', \"J'ai fait l'soldat\", 'Calcutta', 'Téhéran', 'Saana', 'Cotonou', 'Dôle', 'Lourdes', 'Créteil', 'Port-Gentil', 'Tripoli', 'Varsovie', 'Baltimore', 'A', \"Bouquin'\", \"J'ai écris\", 'Ventre', 'Mini-moche', 'Mini-moche', 'Maxitère', 'Amour', 'Hâtez', 'Paris', 'Millau', 'Venise', 'Essuie', 'Nickelés\\nCaleçons', 'Trocadéro\\nPris de remords il se mord', 'Houlgate', 'Boulevard Poissonnière', 'Demi-ton']\n"
     ]
    }
   ],
   "source": [
    "print(loc1_corpus1)"
   ]
  },
  {
   "cell_type": "code",
   "execution_count": 7,
   "metadata": {},
   "outputs": [
    {
     "name": "stdout",
     "output_type": "stream",
     "text": [
      "['Mini-moke', 'Mini-jupe', 'Miniature', 'Ministère', 'Minimum', 'Mini-moke', 'Maxistère', 'Maxistère', 'Canigou', \"J'\", 'A', 'Ouille', 'Ouille', 'Ouille', 'Ouille', 'A', 'Ouille', 'Ouille', 'Y', 'Ouille', 'Ouille', 'Viens', 'Mange', 'Touche', 'Mange', 'rue\\nSinon', 'Viens', 'Réponds', 'Sois', 'Faut', 'Dis', 'Viens', 'Prends', 'Tu', \"J'\", \"J'\", 'Mégève', 'Saint-Tropez', \"J'\", \"Rochelle\\nJ'\", \"J'\", \"J'\", 'Hippie', 'Vive', 'Hippie', 'Vive', 'San Francisco\\n\\nJe', 'Hippie', 'Vive', 'Ca', 'la France', 'Toute', 'Placés', 'Fatigué', 'A', \"J'ai des tracas j'ai des tourments\\nJ'ai pas l'moral\", \"J'ai pas de chance j'ai pas d'amis\\n\\nJ'ai pas de pot j'ai des impôts\", \"Parc'\", 'Celles', 'Aidez', 'Aidez', 'Dont', \"J'\", 'Celles', 'Celles', \"J'ai maigri je suis\", 'Aidez', 'A', 'Aidez', \"J'me tape la tête contre les murs\\n\\n\", 'Les', 'Les', 'Les', 'Les', \"Chaussée-d'Antin\\n\\n\", 'jardin\\nPassa', \"Chaussée-d'Antin\\n\\n\", 'jardin\\nPassa', 'Chaussée', 'Chaussée', 'A', 'A', 'Prendre', 'Val-de-Grâce', \"J'aimerais\", 'Ca', 'Vieux', 'Lavabo', 'Merde in France', 'Eh watching', 'Lavabo', 'Merde in France', 'Lavabo', 'Merde in France', \"J'\", 'Varsovie', 'Baltimore', 'Yaoundé', 'Amsterdam', \"J'ai fait des games\", 'Bornéo', 'Papeete', \"J'ai bu de l'eau\", 'Bordeaux', 'Tampico', 'Calcutta', 'A', 'Téhéran', 'Saana', 'Kinshassa', 'Dôle', 'Lourdes', \"J'\", \"J'\", 'Créteil', \"J'ai eu la ber1ue\", \"J'\", 'Port-Gentil', 'Tripoli', 'Varsovie', 'Baltimore', 'Maintenant', 'Amakawogo', 'Amakawogo', 'Gourougourou', 'Bonsoir', 'la France', 'Instantané', 'Moi', \"M'\", 'Moi', \"M'\", 'Venez', 'A', 'Moi', \"M'\", \"J'fonds\", 'Ca', 'Dois', 'Aidez', \"J'ai du plaisir\", 'Aidez', 'Marcelle', 'Venez', 'Réserve', 'Voulez', 'Moi', \"J'ai Maginot\", \"J'ai dit comme tes bas : mi-long\\n\\nElle\", \"J'ai ouï\\n\", 'Dire', 'Amiens', 'Yvette', \"J'ai faim de toi\", \"J'ai confiance\", 'Est', 'matin\\nEst', 'Croire', 'Mini-moke', 'Mini-jupe', 'Miniature', 'Ministère', 'Minimum', 'Mini-moke', 'Maxistère', 'Maxistère', 'Presque', 'Toujours', 'Jamais', 'Gagnez', 'Hâtez', 'Portez', 'Sortez', 'Courez', 'Paris', \"J'\", 'Euh!Euh', 'He!He', \"J'\", 'rue Le Regrantier', \"J'ai des talents\\n\", 'Roméo', 'Pénélope', 'Disigny', 'Goldwyn', 'Métro\\nMa', 'Bernhart\\nArroy', 'Ménard', 'Venise', 'Électronique', 'Lux', 'Pyrex', 'Gilet', 'Braqué', '’', 'N’', 'Être', 'Avoir', 'Repousse', 'Engagez', 'Dou Doucement', 'Dou Doucement', 'Trocadéro\\nPris', 'Placés', 'Fatigué', \"L'eau de mer\", 'Saint Omer', 'Houlgate', 'Jamais', \"Qu'Agathe\", 'Jamais', \"Qu'Agathe\", 'Boulevard Poissonnière', 'Jamais', \"Qu'Agathe\", 'Jamais', \"Qu'Agathe\", 'De', \"Demi-jour\\nD'un hotel\", 'Demi-tour', 'Canigou', \"J'\"]\n"
     ]
    }
   ],
   "source": [
    "print(loc2_corpus1)"
   ]
  },
  {
   "cell_type": "code",
   "execution_count": 8,
   "metadata": {},
   "outputs": [
    {
     "name": "stdout",
     "output_type": "stream",
     "text": [
      "['Ministère', 'Minimum', 'Maxitère', 'Canigou', 'A', 'Mégève', 'Saint-Tropez', \"Camaret\\nJ'aime les filles intellectuelles\", 'San Francisco\\n\\nJe suis hippie', 'Ca', \"Parc'\", 'Celles', 'Celles', 'Celles', 'Chaussée', 'jardin\\nPassa', 'Chaussée', 'jardin\\nPassa', 'Chaussée', 'Chaussée', 'Val-de-Grâce', 'Ca', 'Vieux', 'Merde', 'France', 'France', 'Merde', 'France', 'France', 'France', 'Merde', 'France', 'France', 'Merde', 'France', 'France', 'Varsovie', 'Baltimore', 'Yaoundé', 'Amsterdam', 'Bornéo', 'Papeete', 'Bordeaux', 'Tampico', 'Calcutta', 'Téhéran', 'Saana', 'Cotonou', 'Dôle', 'Lourdes', 'Créteil', 'Port-Gentil', 'Tripoli', 'Varsovie', 'Baltimore', 'Akéké', 'Akékékéké', 'la France', 'Ca', 'Aidez', 'Aidez', 'Venez', \"J'ai Maginot\", \"Bouquin'\", 'Amiens', 'Nagent', 'Ministère', 'Minimum', 'Maxitère', 'Déformante', 'Hâtez', 'Paris', 'Prrr!Prrr', 'He!Hee!Ils', 'He!He', 'Oh!Ooh!Quand', \"J'habite rue Le Regrantier\", 'Vénus', 'Millau', 'Venise', 'Harpic', 'Antiatomique', 'Braqué', 'Trocadéro\\nPris', 'Houlgate', 'île de la Jatte', 'Boulevard Poissonnière', 'Demi-sourires', 'Demi-soupir', 'Demi-tour', 'Canigou']\n"
     ]
    }
   ],
   "source": [
    "print(loc3_corpus1)"
   ]
  },
  {
   "cell_type": "code",
   "execution_count": 10,
   "metadata": {},
   "outputs": [],
   "source": [
    "ecrire_fichier(\"locations_corpus1_md.json\", str(loc1_corpus1))\n",
    "ecrire_fichier(\"locations_corpus1_sm.json\", str(loc2_corpus1))\n",
    "ecrire_fichier(\"locations_corpus1_lg.json\", str(loc3_corpus1))"
   ]
  },
  {
   "cell_type": "code",
   "execution_count": 11,
   "metadata": {},
   "outputs": [],
   "source": [
    "f = open(\"locations_corpus1_md.json\")\n",
    "liste1 = eval(f.read())\n",
    "f.close()\n",
    "\n",
    "f = open(\"locations_corpus1_sm.json\")\n",
    "liste2 = eval(f.read())\n",
    "f.close()\n",
    "\n",
    "f = open(\"locations_corpus1_lg.json\")\n",
    "liste3 = eval(f.read())\n",
    "f.close()\n",
    "\n",
    "lieux1 = set(liste1)\n",
    "lieux2 = set(liste2)\n",
    "lieux3 = set(liste3)"
   ]
  },
  {
   "cell_type": "code",
   "execution_count": 12,
   "metadata": {},
   "outputs": [
    {
     "name": "stdout",
     "output_type": "stream",
     "text": [
      "Intersection 26\n",
      "dans lieux1 15\n",
      "dans lieux2 95\n",
      "dans lieux3 17\n"
     ]
    }
   ],
   "source": [
    "lieux_en_commun = lieux1.intersection(lieux2, lieux3)\n",
    "print(\"Intersection\", len(lieux_en_commun))\n",
    "print(\"dans lieux1\", len(lieux1.difference(lieux2,lieux3)))\n",
    "print(\"dans lieux2\", len(lieux2.difference(lieux1, lieux3)))\n",
    "print(\"dans lieux3\", len(lieux3.difference(lieux2, lieux1)))"
   ]
  },
  {
   "cell_type": "code",
   "execution_count": 13,
   "metadata": {},
   "outputs": [
    {
     "name": "stdout",
     "output_type": "stream",
     "text": [
      "{'Tampico', 'Téhéran', 'Lourdes', 'Venise', 'Boulevard Poissonnière', 'Amsterdam', 'Port-Gentil', 'Saana', 'Tripoli', 'Ca', 'Celles', 'Val-de-Grâce', 'Baltimore', 'A', 'Bornéo', 'Dôle', 'Hâtez', 'Varsovie', 'Calcutta', 'Bordeaux', 'Houlgate', 'Créteil', 'Yaoundé', 'Chaussée', 'Papeete', 'Paris'}\n"
     ]
    }
   ],
   "source": [
    "print(lieux_en_commun)"
   ]
  },
  {
   "cell_type": "code",
   "execution_count": 14,
   "metadata": {},
   "outputs": [
    {
     "name": "stdout",
     "output_type": "stream",
     "text": [
      "{'Trocadéro\\nPris de remords il se mord', 'la Rochelle', 'Obélisque\\nA', 'Binningham', 'San Francisco', 'Mini-moche', 'Demi-ton', 'Ventre', 'Nickelés\\nCaleçons', \"J'ai écris\", 'Amour', 'Castel\\n', 'Refrain}', 'Essuie', \"J'ai fait l'soldat\"}\n"
     ]
    }
   ],
   "source": [
    "print(lieux1.difference(lieux2,lieux3))"
   ]
  },
  {
   "cell_type": "code",
   "execution_count": 15,
   "metadata": {},
   "outputs": [
    {
     "name": "stdout",
     "output_type": "stream",
     "text": [
      "{'Presque', 'Engagez', \"Qu'Agathe\", 'Avoir', \"J'fonds\", 'Saint Omer', 'Amakawogo', \"J'ai maigri je suis\", 'Électronique', 'Gilet', 'rue Le Regrantier', 'Disigny', 'Ménard', 'Maintenant', \"J'me tape la tête contre les murs\\n\\n\", 'Les', 'rue\\nSinon', 'matin\\nEst', 'Sortez', \"J'aimerais\", \"J'ai fait des games\", \"Chaussée-d'Antin\\n\\n\", 'Tu', 'Placés', 'Courez', 'Être', 'Mini-moke', 'Prends', 'Miniature', '’', \"J'ai des talents\\n\", \"J'ai eu la ber1ue\", \"J'ai faim de toi\", 'Instantané', \"Rochelle\\nJ'\", 'Dois', 'Fatigué', 'Dis', 'Maxistère', \"J'ai dit comme tes bas : mi-long\\n\\nElle\", 'Est', 'Lavabo', 'Toujours', 'N’', 'Ouille', 'Bernhart\\nArroy', 'Marcelle', \"M'\", 'Toute', 'Mini-jupe', 'Croire', 'Sois', 'Merde in France', 'Lux', 'Y', 'Réponds', 'Roméo', 'Pénélope', 'Bonsoir', 'Pyrex', 'Vive', 'Gagnez', 'Portez', 'Dire', \"L'eau de mer\", \"Demi-jour\\nD'un hotel\", \"J'ai ouï\\n\", \"J'\", 'Métro\\nMa', 'Viens', 'Yvette', 'Faut', 'Mange', 'Gourougourou', 'Goldwyn', 'Eh watching', 'Repousse', \"J'ai des tracas j'ai des tourments\\nJ'ai pas l'moral\", 'Jamais', 'Hippie', 'Kinshassa', \"J'ai confiance\", 'San Francisco\\n\\nJe', \"J'ai pas de chance j'ai pas d'amis\\n\\nJ'ai pas de pot j'ai des impôts\", 'Euh!Euh', 'Dou Doucement', 'De', 'Réserve', 'Moi', 'Voulez', \"J'ai bu de l'eau\", \"J'ai du plaisir\", 'Dont', 'Touche', 'Prendre'}\n"
     ]
    }
   ],
   "source": [
    "print(lieux2.difference(lieux1,lieux3))"
   ]
  },
  {
   "cell_type": "code",
   "execution_count": 16,
   "metadata": {},
   "outputs": [
    {
     "name": "stdout",
     "output_type": "stream",
     "text": [
      "{'Demi-soupir', 'He!Hee!Ils', 'Akéké', 'Oh!Ooh!Quand', \"Camaret\\nJ'aime les filles intellectuelles\", 'Akékékéké', 'Harpic', 'Prrr!Prrr', 'Vénus', 'Nagent', 'San Francisco\\n\\nJe suis hippie', 'Déformante', 'Demi-sourires', 'Antiatomique', 'île de la Jatte', 'Merde', \"J'habite rue Le Regrantier\"}\n"
     ]
    }
   ],
   "source": [
    "print(lieux3.difference(lieux2,lieux1))"
   ]
  },
  {
   "cell_type": "code",
   "execution_count": 21,
   "metadata": {},
   "outputs": [
    {
     "name": "stdout",
     "output_type": "stream",
     "text": [
      "Tampico\n",
      "Téhéran\n",
      "Lourdes\n",
      "Braqué\n",
      "Ministère\n",
      "la France\n",
      "Venise\n",
      "Canigou\n",
      "Boulevard Poissonnière\n",
      "Vieux\n",
      "Amsterdam\n",
      "Port-Gentil\n",
      "France\n",
      "Maxitère\n",
      "Minimum\n",
      "Saana\n",
      "Tripoli\n",
      "Ca\n",
      "Aidez\n",
      "Amiens\n",
      "Demi-tour\n",
      "Celles\n",
      "Millau\n",
      "Val-de-Grâce\n",
      "Baltimore\n",
      "A\n",
      "Bornéo\n",
      "Dôle\n",
      "Cotonou\n",
      "J'ai Maginot\n",
      "Hâtez\n",
      "Trocadéro\n",
      "Pris\n",
      "Varsovie\n",
      "Calcutta\n",
      "Parc'\n",
      "Bordeaux\n",
      "Mégève\n",
      "Houlgate\n",
      "Saint-Tropez\n",
      "He!He\n",
      "Créteil\n",
      "Yaoundé\n",
      "Venez\n",
      "Chaussée\n",
      "Papeete\n",
      "jardin\n",
      "Passa\n",
      "Paris\n",
      "Bouquin'\n"
     ]
    }
   ],
   "source": [
    "l3=lieux3.difference(lieux2,lieux1)\n",
    "for l in lieux3:\n",
    "    if l not in l3:\n",
    "        print(l)"
   ]
  },
  {
   "cell_type": "code",
   "execution_count": null,
   "metadata": {},
   "outputs": [],
   "source": []
  }
 ],
 "metadata": {
  "kernelspec": {
   "display_name": "Python 3",
   "language": "python",
   "name": "python3"
  },
  "language_info": {
   "codemirror_mode": {
    "name": "ipython",
    "version": 3
   },
   "file_extension": ".py",
   "mimetype": "text/x-python",
   "name": "python",
   "nbconvert_exporter": "python",
   "pygments_lexer": "ipython3",
   "version": "3.8.3"
  }
 },
 "nbformat": 4,
 "nbformat_minor": 4
}
